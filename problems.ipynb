{
 "cells": [
  {
   "cell_type": "markdown",
   "id": "9a3e1808",
   "metadata": {},
   "source": [
    "# Solutions to Applied Statistics Assessment"
   ]
  },
  {
   "cell_type": "code",
   "execution_count": 1,
   "id": "3507d763",
   "metadata": {},
   "outputs": [],
   "source": [
    "# Mathematical functions from the standard library\n",
    "import math\n",
    "\n",
    "# Permutations and combinations\n",
    "import itertools\n",
    "\n",
    "# Random selections\n",
    "import random\n",
    "\n",
    "# Numerical structures and applications\n",
    "import numpy as np\n",
    "\n",
    "# Plotting\n",
    "import matplotlib.pyplot as plt"
   ]
  },
  {
   "cell_type": "markdown",
   "id": "1775e224",
   "metadata": {},
   "source": [
    "## Introduction"
   ]
  },
  {
   "cell_type": "code",
   "execution_count": null,
   "id": "be582049",
   "metadata": {},
   "outputs": [],
   "source": []
  },
  {
   "cell_type": "markdown",
   "id": "5d62eac4",
   "metadata": {},
   "source": [
    "## Problem 1: Extending the Lady Tasting Tea Experiment\n",
    "\n",
    "### __Brief__: \n",
    "\n",
    "Let's extend the Lady Tasting Tea experiment as follows. The original experiment has 8 cups: 4 tea-first and 4 milk-first. Suppose we prepare 12 cups: 8 tea-first and 4 milk-first. A participant claims they can tell which was poured first.\n",
    "\n",
    "Simulate this experiment using numpy by randomly shuffling the cups many times and calculating the probability of the participant correctly identifying all cups by chance. Compare your result with the original 8-cup experiment.\n",
    "\n",
    "In your notebook, explain your simulation process clearly, report and interpret the estimated probability, and discuss whether, based on this probability, you would consider extending or relaxing the p-value threshold compared to the original design."
   ]
  },
  {
   "cell_type": "markdown",
   "id": "85f8aa64",
   "metadata": {},
   "source": [
    "### __Solution:__"
   ]
  },
  {
   "cell_type": "markdown",
   "id": "810b6279",
   "metadata": {},
   "source": [
    "#### Background\n",
    "\n",
    "The lady tasting tea is a famous statistical experiment devised by [Ronald A. Fisher](https://en.wikipedia.org/wiki/Ronald_Fisher) to investigate a woman's claim that she could distinguish whether milk was poured first into a cup of tea or if the tea was poured in first. \n",
    "\n",
    "In the original experiment eight cups of tea were presented to the lady - four with milk first and four with tea first. They were identical in all other respects and were presented in a _random_ order. Fisher aimed to calculate the probability, _p_ that the lady was selecting the four milk first cups purely by chance.\n",
    "\n",
    "As part of this experiment, Fisher introduced the null hypothesis, _H<sub>0</sub>_ and the alternative hypothesis,  _H<sub>a</sub>_. The null hypothesis is the default position and is assumed to be true unless proven otherwise. The alternative hypothesis opposes the null hypothesis and assumes a relationship between the variables. As stated in this article, Alternative Hypothesis: Definition, Types and Examples on [geeksforgeeks.org](https://www.geeksforgeeks.org/maths/alternative-hypothesis-definition-types-and-examples/)  \n",
    ">\"The null and alternative hypotheses are exhaustive, meaning that together they cover every possible outcome. They are also mutually exclusive, meaning that only one can be true at a time\".\n",
    "\n",
    "For this experiment the null hypothesis and the alternative hypothesis are as follows:\n",
    "\n",
    ">__Null Hypothesis _H<sub>0</sub>_:__\n",
    ">\n",
    ">* The lady has no special powers to tell the difference between cups of tea with milk in first and cups of tea with tea in first.\n",
    ">* The lady is selecting the four cups from eight at random.\n",
    ">\n",
    ">__Alternative Hypothesis _H<sub>a</sub>_:__\n",
    ">* The lady can tell the difference. \n",
    "\n",
    "Randomisation of the order of the cups and the order in which the cups were presented to the lady is a key component of the experiment. As discussed in [The historical and statistical significance of the lady tasting tea experiment](https://jyyna.co.uk/lady-tasting-tea/) randomisation eliminates selection bias ensuring that each cup has an equal chance of being selected and facilitates statistical analysis as statistical tests assume randomness. As an aside, the author replicated the experiment with his friends - none of them could match the lady's accuracy!\n",
    "\n",
    "[Probability](https://statisticsbyjim.com/probability/probability-fundamentals/) is the measure of likelihood of an event occurring, expressed as a value between 0 and 1, where 0 is impossible and 1 is certain. A low _p_ indicates evidence against the null hypothesis. [Combinatorial maths](https://www.geeksforgeeks.org/engineering-mathematics/combinatorics/) is used to calculate the probability of the lady selecting at random the four milk in first cups from eight cups. The [class lecture notes](https://github.com/ianmcloughlin/applied-statistics/blob/main/materials/lady-tasting-tea.ipynb) provides a more detailed explanation of how to perform this calculation with Python.\n",
    "\n",
    " $\\binom{n}{k} = \\frac{n!}{k!(n-k)!}$ where ${n}$ is the total number of cups and ${k}$ is the number of cups with milk in first. \n",
    "\n",
    "Using this equation the probability, _p_ of correctly identifying at random all four milk first cups is 1/70. In other words, if she is choosing at random, she has a one in seventy chance or a probability of 0.014 of correctly selecting the four cups with milk in first. Fisher also chose a significance level, α of 0.05. As he states in page 13 of [The Design of Experiments](https://home.iitk.ac.in/~shalab/anova/DOE-RAF.pdf): \n",
    ">\"It is open to the experimenter to be more or less exacting in respect of the smallness of the probability he would require before he would be willing to admit that his observations have demonstrated a positive result\". \n",
    "\n",
    "Since the probability of selecting the four cups at random is smaller than the significance level we can say that the null hypothesis is rejected in favour of the alternative hypothesis.  \n",
    "As the lady correctly selected all four milk first cups we can say that she can indeed detect if milk or tea has been poured first into the cup. \n",
    "\n",
    "https://www.irishtimes.com/news/science/how-a-tea-tasting-test-led-to-a-breakthrough-in-statistics-1.3998786"
   ]
  },
  {
   "cell_type": "markdown",
   "id": "05d57714",
   "metadata": {},
   "source": [
    "### Simulate the Experiment Using NumPy\n",
    "\n",
    "The problem set requires the use of numpy to simulate the experiment. \n",
    "\n",
    "The key steps are:\n",
    "1. Set the null hypothesis and alternative hypothesis, and significance level. \n",
    "   \n",
    "   >__Null Hypothesis _H<sub>0</sub>_:__\n",
    "    >\n",
    "    >* The lady has no special powers to tell the difference between cups of tea with milk in first and cups of tea with tea in first.\n",
    "    >* The lady is selecting the four cups from twelve at random.\n",
    "    >\n",
    "    >__Alternative Hypothesis _H<sub>a</sub>_:__\n",
    "    >* The lady can tell the difference. \n",
    "    >\n",
    "    >__Significance level, α:__ 0.05\n",
    "\n",
    "2. Decide on the number of times to repeat the experiment. \n",
    "   \n",
    "   As the brief says 'many times', I chose to repeat the experiment 10,000,000 times. This will give a more accurate estimate. \n",
    "3. Set up a counter to track the number of successful outcomes. \n",
    "4. Set up a numpy array with 12 labels from 0 to 11 inclusive. These are the twelve cups. \n",
    "5. Shuffle the labels using [numpy.random.shuffle()](https://numpy.org/doc/2.1/reference/random/generated/numpy.random.shuffle.html).\n",
    "\n",
    "   This function randomly rearranges elements within an array in-place. Each run may produce a different permutation. \n",
    "6. Choose four labels from the cups array to be milk in first. \n",
    "\n",
    "   To choose four cups from the array, the function [numpy.random.choice()](https://numpy.org/doc/stable/reference/random/generated/numpy.random.choice.html) was used. It has three parameters:\n",
    "   \n",
    "    a: the array to sample from\n",
    "    size: the number of elements to select (4)\n",
    "    replace: either True or False. \n",
    "    \n",
    "    If the replace parameter is True it samples with replacement. For this experiment ``replace = False`` as we want sample without replacement. When a cup is selected we do not it replaced back into the array again. \n",
    "\n",
    "    The array is sorted in ascending order with np.sort(). This will make the comparison step between the two arrays simpler as the position of the element matters when comparing arrays.\n",
    "\n",
    "7. Using numpy.random.choice() randomly select and sort four labels from the cups array as the guess as to which cups have milk added first. \n",
    "8. Do the labels match? Compare the milk in first array and the guess array with [numpy's array_equal() function](https://numpy.org/doc/stable/reference/generated/numpy.array_equal.html). With array_equal() it was necessary to sort the arrays in ascending order as p. This step could also be performed with [np.all() or np.array_equiv()](https://note.nkmk.me/en/python-numpy-ndarray-compare/). \n",
    "9.  If the arrays match, store the result as success. \n",
    "\n",
    "10. Calculate the probability. \n",
    " \n",
    "    $p = \\frac{success}{no. of experiments}$"
   ]
  },
  {
   "cell_type": "code",
   "execution_count": null,
   "id": "4774fa5b",
   "metadata": {},
   "outputs": [
    {
     "data": {
      "text/plain": [
       "20213"
      ]
     },
     "execution_count": 2,
     "metadata": {},
     "output_type": "execute_result"
    }
   ],
   "source": [
    "# Number of simulation runs.\n",
    "experiment = 10_000_000\n",
    "\n",
    "# Counter for the number of times the guess matches the milk selection.\n",
    "success = 0\n",
    "\n",
    "for _ in np.arange(experiment):\n",
    "    # Create an array representing 12 cups labeled 0-11 inclusive.\n",
    "    cups = np.arange(0, 12)\n",
    "\n",
    "    # Randomly shuffle the cups.\n",
    "    np.random.shuffle(cups)\n",
    "\n",
    "    # Randomly choose 4 cups that have milk added first. Sample without replacement.\n",
    "    # Sort the array.\n",
    "    milk = np.sort(np.random.choice(cups, size = 4, replace = False))\n",
    "\n",
    "    # Randomly guess which cups have milk added first. Sample without replacement.\n",
    "    # Sort the array.\n",
    "    guess = np.sort(np.random.choice(cups, size = 4, replace= False))\n",
    "    \n",
    "    # If the guess matches the milk selection, count it as a success.\n",
    "    if np.array_equal(milk, guess):\n",
    "        success += 1\n",
    "\n",
    "success"
   ]
  },
  {
   "cell_type": "markdown",
   "id": "efa6b0db",
   "metadata": {},
   "source": [
    "Comment on probability.\n",
    "\n",
    "The p-value is defined as the probability of obtaining test results at least as extremem as the result acutually observed, under the assumption that the null hypothesis is correct. A small p-value means that \n",
    "https://en.wikipedia.org/wiki/P-value\n",
    "\n",
    "https://statisticsbyjim.com/hypothesis-testing/interpreting-p-values/\n",
    "\n",
    "https://www.investopedia.com/terms/p/p-value.asp\n",
    "\n",
    "https://www.simplypsychology.org/p-value.html"
   ]
  },
  {
   "cell_type": "code",
   "execution_count": 3,
   "id": "c2ffe613",
   "metadata": {},
   "outputs": [
    {
     "data": {
      "text/plain": [
       "0.0020213"
      ]
     },
     "execution_count": 3,
     "metadata": {},
     "output_type": "execute_result"
    }
   ],
   "source": [
    "# Calculate the probability of success.\n",
    "probability = success/experiment\n",
    "probability"
   ]
  },
  {
   "cell_type": "markdown",
   "id": "3429ced9",
   "metadata": {},
   "source": []
  },
  {
   "cell_type": "markdown",
   "id": "5b16fb4e",
   "metadata": {},
   "source": [
    "Original 8 cup experiment. 1/70"
   ]
  },
  {
   "cell_type": "markdown",
   "id": "d1d9e8e9",
   "metadata": {},
   "source": [
    "***"
   ]
  },
  {
   "cell_type": "markdown",
   "id": "1e44d13b",
   "metadata": {},
   "source": [
    "## Problem 2: Normal Distribution\n",
    "\n",
    "__Brief__: Generate 100,000 samples of size 10 from the standard normal distribution. For each sample, compute the standard deviation with ddof=1 (sample SD) and with ddof=0 (population SD). Plot histograms of both sets of values on the same axes with transparency. Describe the differences you see. Explain how you expect these differences to change if the sample size is increased."
   ]
  },
  {
   "cell_type": "markdown",
   "id": "4d0915cd",
   "metadata": {},
   "source": [
    "## Problem 3: t-Tests\n",
    "\n",
    "__Brief__: A type II error occurs when a test fails to reject the null hypothesis even though it is false. For each mean difference _d_ = 0, 0.1, 0.2, …, 1.0, repeat the following simulation 1,000 times:\n",
    "\n",
    "1. Draw two samples of size 100, one from the standard normal distribution and one from the normal distribution with mean _d_ and standard deviation 1.\n",
    "2. Run an independent samples t-test on the two samples, rejecting the null hypothesis if the p-value is less than 0.05.\n",
    "3. Record the proportion of times the null hypothesis is not rejected.\n",
    "   \n",
    "Plot this proportion against _d_, and explain how the type II error rate changes as the difference in means increases."
   ]
  },
  {
   "cell_type": "markdown",
   "id": "c42ad8c5",
   "metadata": {},
   "source": [
    "## Problem 4: ANOVA\n",
    "\n",
    "__Brief__: Generate three independent samples, each of size 30, from normal distributions with means 0, 0.5, and 1, each with standard deviation 1.\n",
    "\n",
    "1. Perform a one-way ANOVA to test whether all three means are equal.\n",
    "2. Perform three independent two-sample t-tests: samples 1 vs 2, 1 vs 3, and 2 vs 3.\n",
    "3. Compare the conclusions.\n",
    "   \n",
    "Write a short note on why ANOVA is preferred over running several t-tests."
   ]
  },
  {
   "cell_type": "markdown",
   "id": "63729818",
   "metadata": {},
   "source": [
    "End\n",
    "***"
   ]
  }
 ],
 "metadata": {
  "kernelspec": {
   "display_name": "base",
   "language": "python",
   "name": "python3"
  },
  "language_info": {
   "codemirror_mode": {
    "name": "ipython",
    "version": 3
   },
   "file_extension": ".py",
   "mimetype": "text/x-python",
   "name": "python",
   "nbconvert_exporter": "python",
   "pygments_lexer": "ipython3",
   "version": "3.12.7"
  }
 },
 "nbformat": 4,
 "nbformat_minor": 5
}

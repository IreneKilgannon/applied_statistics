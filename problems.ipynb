{
 "cells": [
  {
   "cell_type": "markdown",
   "id": "9a3e1808",
   "metadata": {},
   "source": [
    "# Solutions to Applied Statistics Assessment"
   ]
  },
  {
   "cell_type": "code",
   "execution_count": 325,
   "id": "3507d763",
   "metadata": {},
   "outputs": [],
   "source": [
    "# Mathematical functions from the standard library\n",
    "import math\n",
    "\n",
    "# Permutations and combinations\n",
    "import itertools\n",
    "\n",
    "# Random selections\n",
    "import random\n",
    "\n",
    "# Numerical structures and applications\n",
    "import numpy as np\n",
    "\n",
    "# Plotting\n",
    "import matplotlib.pyplot as plt"
   ]
  },
  {
   "cell_type": "markdown",
   "id": "1775e224",
   "metadata": {},
   "source": [
    "## Introduction"
   ]
  },
  {
   "cell_type": "code",
   "execution_count": null,
   "id": "be582049",
   "metadata": {},
   "outputs": [],
   "source": []
  },
  {
   "cell_type": "markdown",
   "id": "5d62eac4",
   "metadata": {},
   "source": [
    "## Problem 1: Extending the Lady Tasting Tea Experiment\n",
    "\n",
    "### __Brief__: \n",
    "\n",
    "Let's extend the Lady Tasting Tea experiment as follows. The original experiment has 8 cups: 4 tea-first and 4 milk-first. Suppose we prepare 12 cups: 8 tea-first and 4 milk-first. A participant claims they can tell which was poured first.\n",
    "\n",
    "Simulate this experiment using numpy by randomly shuffling the cups many times and calculating the probability of the participant correctly identifying all cups by chance. Compare your result with the original 8-cup experiment.\n",
    "\n",
    "In your notebook, explain your simulation process clearly, report and interpret the estimated probability, and discuss whether, based on this probability, you would consider extending or relaxing the p-value threshold compared to the original design."
   ]
  },
  {
   "cell_type": "markdown",
   "id": "85f8aa64",
   "metadata": {},
   "source": [
    "### __Solution:__"
   ]
  },
  {
   "cell_type": "markdown",
   "id": "86f00d7b",
   "metadata": {},
   "source": [
    "### Simulate the experiment using NumPy\n",
    "\n",
    "__Simulate this experiment using numpy by randomly shuffling the cups many times__\n",
    "Select 4 cups to have milk in first.\n",
    "\n",
    "Randomly shuffle the cups.\n",
    "Choose 4 cups.\n",
    "Are the 4 cups chosen the 4 cups that have milk in first?\n",
    "Store the result.\n",
    "Repeat the above process many times.\n",
    "\n",
    "Calculate the probability of the participant correctly identifying __all__ cups.\n",
    "Compare result with the original 8-cup experiment. \n",
    "\n",
    "__Action Plan__\n",
    "* Set up success list.\n",
    "* Set up a numpy array with 12 labels. \n",
    "* Shuffle the labels. https://numpy.org/doc/2.1/reference/random/generated/numpy.random.shuffle.html\n",
    "* Choose 4 labels from that array to be milk in first. https://numpy.org/doc/stable/reference/random/generated/numpy.random.choice.html\n",
    "* Then participant selects 4 labels from the array.\n",
    "* Do the labels match? If yes store the result as success. \n",
    "\n",
    "At end:\n",
    "* Probability success/no of experiments\n"
   ]
  },
  {
   "cell_type": "markdown",
   "id": "810b6279",
   "metadata": {},
   "source": []
  },
  {
   "cell_type": "markdown",
   "id": "7b05c006",
   "metadata": {},
   "source": [
    "__Null Hypothesis:__\n",
    "\n",
    "* The lady has no special powers to tell the difference between cups of tea with milk in first and cups of tea with tea in first.\n",
    "* The lady is selecting the four cups from twelve at random.\n",
    "\n",
    "__Alternative Hypothesis:__\n",
    "* The lady can tell the difference. "
   ]
  },
  {
   "cell_type": "code",
   "execution_count": null,
   "id": "4774fa5b",
   "metadata": {},
   "outputs": [
    {
     "data": {
      "text/plain": [
       "2034"
      ]
     },
     "execution_count": 326,
     "metadata": {},
     "output_type": "execute_result"
    }
   ],
   "source": [
    "# Number of simulation runs.\n",
    "experiment = 10_000_000\n",
    "\n",
    "# Counter for the number of times the guess matches the milk selection.\n",
    "success = 0\n",
    "\n",
    "for _ in np.arange(experiment):\n",
    "    # Create an array representing 12 cups labeled 0-11 inclusive.\n",
    "    cups = np.arange(0, 12)\n",
    "\n",
    "    # Randomly shuffle the cups.\n",
    "    np.random.shuffle(cups)\n",
    "\n",
    "    # Randomly choose 4 cups that have milk added first. Sample without replacement.\n",
    "    milk = np.sort(np.random.choice(cups, size = 4, replace = False))\n",
    "\n",
    "    # Randomly guess which cups have milk added first. Sample without replacement.\n",
    "    guess = np.sort(np.random.choice(cups, size = 4, replace= False))\n",
    "    \n",
    "    # If the guess matches the milk selection, count it as a success.\n",
    "    if np.array_equal(milk, guess):\n",
    "        success += 1\n",
    "\n",
    "success"
   ]
  },
  {
   "cell_type": "code",
   "execution_count": 327,
   "id": "c2ffe613",
   "metadata": {},
   "outputs": [
    {
     "data": {
      "text/plain": [
       "0.002034"
      ]
     },
     "execution_count": 327,
     "metadata": {},
     "output_type": "execute_result"
    }
   ],
   "source": [
    "# Calculate the probability of success.\n",
    "probability = success/experiment\n",
    "probability"
   ]
  },
  {
   "cell_type": "markdown",
   "id": "3429ced9",
   "metadata": {},
   "source": [
    "https://note.nkmk.me/en/python-numpy-ndarray-compare"
   ]
  },
  {
   "cell_type": "markdown",
   "id": "5b16fb4e",
   "metadata": {},
   "source": [
    "Original 8 cup experiment. 1/70"
   ]
  },
  {
   "cell_type": "code",
   "execution_count": 341,
   "id": "6bf125cf",
   "metadata": {},
   "outputs": [
    {
     "data": {
      "text/plain": [
       "0.014285714285714285"
      ]
     },
     "execution_count": 341,
     "metadata": {},
     "output_type": "execute_result"
    }
   ],
   "source": [
    "1/70"
   ]
  },
  {
   "cell_type": "markdown",
   "id": "d1d9e8e9",
   "metadata": {},
   "source": [
    "***"
   ]
  },
  {
   "cell_type": "markdown",
   "id": "1e44d13b",
   "metadata": {},
   "source": [
    "## Problem 2: Normal Distribution\n",
    "\n",
    "__Brief__: Generate 100,000 samples of size 10 from the standard normal distribution. For each sample, compute the standard deviation with ddof=1 (sample SD) and with ddof=0 (population SD). Plot histograms of both sets of values on the same axes with transparency. Describe the differences you see. Explain how you expect these differences to change if the sample size is increased."
   ]
  },
  {
   "cell_type": "markdown",
   "id": "4d0915cd",
   "metadata": {},
   "source": [
    "## Problem 3: t-Tests\n",
    "\n",
    "__Brief__: A type II error occurs when a test fails to reject the null hypothesis even though it is false. For each mean difference _d_ = 0, 0.1, 0.2, …, 1.0, repeat the following simulation 1,000 times:\n",
    "\n",
    "1. Draw two samples of size 100, one from the standard normal distribution and one from the normal distribution with mean _d_ and standard deviation 1.\n",
    "2. Run an independent samples t-test on the two samples, rejecting the null hypothesis if the p-value is less than 0.05.\n",
    "3. Record the proportion of times the null hypothesis is not rejected.\n",
    "   \n",
    "Plot this proportion against _d_, and explain how the type II error rate changes as the difference in means increases."
   ]
  },
  {
   "cell_type": "markdown",
   "id": "c42ad8c5",
   "metadata": {},
   "source": [
    "## Problem 4: ANOVA\n",
    "\n",
    "__Brief__: Generate three independent samples, each of size 30, from normal distributions with means 0, 0.5, and 1, each with standard deviation 1.\n",
    "\n",
    "1. Perform a one-way ANOVA to test whether all three means are equal.\n",
    "2. Perform three independent two-sample t-tests: samples 1 vs 2, 1 vs 3, and 2 vs 3.\n",
    "3. Compare the conclusions.\n",
    "   \n",
    "Write a short note on why ANOVA is preferred over running several t-tests."
   ]
  },
  {
   "cell_type": "markdown",
   "id": "63729818",
   "metadata": {},
   "source": [
    "End\n",
    "***"
   ]
  }
 ],
 "metadata": {
  "kernelspec": {
   "display_name": "base",
   "language": "python",
   "name": "python3"
  },
  "language_info": {
   "codemirror_mode": {
    "name": "ipython",
    "version": 3
   },
   "file_extension": ".py",
   "mimetype": "text/x-python",
   "name": "python",
   "nbconvert_exporter": "python",
   "pygments_lexer": "ipython3",
   "version": "3.12.7"
  }
 },
 "nbformat": 4,
 "nbformat_minor": 5
}

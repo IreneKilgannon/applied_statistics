{
 "cells": [
  {
   "cell_type": "markdown",
   "id": "9a3e1808",
   "metadata": {},
   "source": [
    "# Solutions to Applied Statistics Assessment"
   ]
  }
 ],
 "metadata": {
  "language_info": {
   "name": "python"
  }
 },
 "nbformat": 4,
 "nbformat_minor": 5
}

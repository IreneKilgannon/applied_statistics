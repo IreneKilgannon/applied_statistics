{
 "cells": [
  {
   "cell_type": "markdown",
   "id": "9a3e1808",
   "metadata": {},
   "source": [
    "# Solutions to Applied Statistics Assessment"
   ]
  },
  {
   "cell_type": "code",
   "execution_count": 325,
   "id": "3507d763",
   "metadata": {},
   "outputs": [],
   "source": [
    "# Mathematical functions from the standard library\n",
    "import math\n",
    "\n",
    "# Permutations and combinations\n",
    "import itertools\n",
    "\n",
    "# Random selections\n",
    "import random\n",
    "\n",
    "# Numerical structures and applications\n",
    "import numpy as np\n",
    "\n",
    "# Plotting\n",
    "import matplotlib.pyplot as plt"
   ]
  },
  {
   "cell_type": "markdown",
   "id": "1775e224",
   "metadata": {},
   "source": [
    "## Introduction"
   ]
  },
  {
   "cell_type": "code",
   "execution_count": null,
   "id": "be582049",
   "metadata": {},
   "outputs": [],
   "source": []
  },
  {
   "cell_type": "markdown",
   "id": "5d62eac4",
   "metadata": {},
   "source": [
    "## Problem 1: Extending the Lady Tasting Tea Experiment\n",
    "\n",
    "### __Brief__: \n",
    "\n",
    "Let's extend the Lady Tasting Tea experiment as follows. The original experiment has 8 cups: 4 tea-first and 4 milk-first. Suppose we prepare 12 cups: 8 tea-first and 4 milk-first. A participant claims they can tell which was poured first.\n",
    "\n",
    "Simulate this experiment using numpy by randomly shuffling the cups many times and calculating the probability of the participant correctly identifying all cups by chance. Compare your result with the original 8-cup experiment.\n",
    "\n",
    "In your notebook, explain your simulation process clearly, report and interpret the estimated probability, and discuss whether, based on this probability, you would consider extending or relaxing the p-value threshold compared to the original design."
   ]
  },
  {
   "cell_type": "markdown",
   "id": "85f8aa64",
   "metadata": {},
   "source": [
    "### __Solution:__"
   ]
  },
  {
   "cell_type": "markdown",
   "id": "86f00d7b",
   "metadata": {},
   "source": [
    "### Simulate the experiment using NumPy\n",
    "\n",
    "__Simulate this experiment using numpy by randomly shuffling the cups many times__\n",
    "Select 4 cups to have milk in first.\n",
    "\n",
    "Randomly shuffle the cups.\n",
    "Choose 4 cups.\n",
    "Are the 4 cups chosen the 4 cups that have milk in first?\n",
    "Store the result.\n",
    "Repeat the above process many times.\n",
    "\n",
    "Calculate the probability of the participant correctly identifying __all__ cups.\n",
    "Compare result with the original 8-cup experiment. \n",
    "\n",
    "__Action Plan__\n",
    "* Set up success list.\n",
    "* Set up a numpy array with 12 labels. \n",
    "* Shuffle the labels. https://numpy.org/doc/2.1/reference/random/generated/numpy.random.shuffle.html\n",
    "* Choose 4 labels from that array to be milk in first. https://numpy.org/doc/stable/reference/random/generated/numpy.random.choice.html\n",
    "* Then participant selects 4 labels from the array.\n",
    "* Do the labels match? If yes store the result as success. \n",
    "\n",
    "At end:\n",
    "* Probability success/no of experiments\n"
   ]
  },
  {
   "cell_type": "markdown",
   "id": "810b6279",
   "metadata": {},
   "source": []
  },
  {
   "cell_type": "markdown",
   "id": "7b05c006",
   "metadata": {},
   "source": [
    "__Null Hypothesis:__\n",
    "\n",
    "* The lady has no special powers to tell the difference between cups of tea with milk in first and cups of tea with tea in first.\n",
    "* The lady is selecting the four cups from twelve at random.\n",
    "\n",
    "__Alternative Hypothesis:__\n",
    "* The lady can tell the difference. "
   ]
  },
  {
   "cell_type": "code",
   "execution_count": null,
   "id": "4774fa5b",
   "metadata": {},
   "outputs": [
    {
     "data": {
      "text/plain": [
       "2034"
      ]
     },
     "execution_count": 326,
     "metadata": {},
     "output_type": "execute_result"
    }
   ],
   "source": [
    "# Number of simulation runs.\n",
    "experiment = 10_000_000\n",
    "\n",
    "# Counter for the number of times the guess matches the milk selection.\n",
    "success = 0\n",
    "\n",
    "for _ in np.arange(experiment):\n",
    "    # Create an array representing 12 cups labeled 0-11 inclusive.\n",
    "    cups = np.arange(0, 12)\n",
    "\n",
    "    # Randomly shuffle the cups.\n",
    "    np.random.shuffle(cups)\n",
    "\n",
    "    # Randomly choose 4 cups that have milk added first. Sample without replacement.\n",
    "    milk = np.sort(np.random.choice(cups, size = 4, replace = False))\n",
    "\n",
    "    # Randomly guess which cups have milk added first. Sample without replacement.\n",
    "    guess = np.sort(np.random.choice(cups, size = 4, replace= False))\n",
    "    \n",
    "    # If the guess matches the milk selection, count it as a success.\n",
    "    if np.array_equal(milk, guess):\n",
    "        success += 1\n",
    "\n",
    "success"
   ]
  },
  {
   "cell_type": "code",
   "execution_count": 327,
   "id": "c2ffe613",
   "metadata": {},
   "outputs": [
    {
     "data": {
      "text/plain": [
       "0.002034"
      ]
     },
     "execution_count": 327,
     "metadata": {},
     "output_type": "execute_result"
    }
   ],
   "source": [
    "# Calculate the probability of success.\n",
    "probability = success/experiment\n",
    "probability"
   ]
  },
  {
   "cell_type": "markdown",
   "id": "3429ced9",
   "metadata": {},
   "source": [
    "https://note.nkmk.me/en/python-numpy-ndarray-compare"
   ]
  },
  {
   "cell_type": "markdown",
   "id": "5b16fb4e",
   "metadata": {},
   "source": [
    "Original 8 cup experiment. 1/70"
   ]
  },
  {
   "cell_type": "code",
   "execution_count": 341,
   "id": "6bf125cf",
   "metadata": {},
   "outputs": [
    {
     "data": {
      "text/plain": [
       "0.014285714285714285"
      ]
     },
     "execution_count": 341,
     "metadata": {},
     "output_type": "execute_result"
    }
   ],
   "source": [
    "1/70"
   ]
  },
  {
   "cell_type": "markdown",
   "id": "5e33a172",
   "metadata": {},
   "source": [
    "Cups of Tea"
   ]
  },
  {
   "cell_type": "code",
   "execution_count": 328,
   "id": "a1b1dde5",
   "metadata": {},
   "outputs": [],
   "source": [
    "# Total number of cups of tea.\n",
    "no_cups = 12\n",
    "\n",
    "# Number of cups with milk first.\n",
    "no_cups_milk_first = 4\n",
    "\n",
    "# Number of cups with tea first.\n",
    "no_cups_tea_first = 8"
   ]
  },
  {
   "cell_type": "code",
   "execution_count": 329,
   "id": "7c1d97bf",
   "metadata": {},
   "outputs": [
    {
     "data": {
      "text/plain": [
       "495"
      ]
     },
     "execution_count": 329,
     "metadata": {},
     "output_type": "execute_result"
    }
   ],
   "source": [
    "# Number of ways of selecting four cups from twelve.\n",
    "ways = math.comb(no_cups, no_cups_milk_first)\n",
    "ways"
   ]
  },
  {
   "cell_type": "code",
   "execution_count": 330,
   "id": "b3ab875e",
   "metadata": {},
   "outputs": [
    {
     "data": {
      "text/plain": [
       "[0, 1, 2, 3, 4, 5, 6, 7, 8, 9, 10, 11]"
      ]
     },
     "execution_count": 330,
     "metadata": {},
     "output_type": "execute_result"
    }
   ],
   "source": [
    "labels = list(range(no_cups))\n",
    "labels"
   ]
  },
  {
   "cell_type": "code",
   "execution_count": 331,
   "id": "df93f1c9",
   "metadata": {},
   "outputs": [],
   "source": [
    "combs = list(itertools.combinations(labels, no_cups_milk_first))\n",
    "\n",
    "# Show.\n",
    "#combs"
   ]
  },
  {
   "cell_type": "code",
   "execution_count": 332,
   "id": "a34a5009",
   "metadata": {},
   "outputs": [
    {
     "data": {
      "text/plain": [
       "495"
      ]
     },
     "execution_count": 332,
     "metadata": {},
     "output_type": "execute_result"
    }
   ],
   "source": [
    "len(combs)"
   ]
  },
  {
   "cell_type": "code",
   "execution_count": 333,
   "id": "adf0239f",
   "metadata": {},
   "outputs": [
    {
     "data": {
      "text/plain": [
       "[0, 5, 9, 11]"
      ]
     },
     "execution_count": 333,
     "metadata": {},
     "output_type": "execute_result"
    }
   ],
   "source": [
    "# Select four cups at random to put milk in first.\n",
    "# https://docs.python.org/3/library/random.html#random.sample\n",
    "labels_milk = random.sample(labels, 4)\n",
    "\n",
    "# Sort, inplace.\n",
    "labels_milk.sort()\n",
    "\n",
    "# Show.\n",
    "labels_milk"
   ]
  },
  {
   "cell_type": "code",
   "execution_count": 334,
   "id": "3936706e",
   "metadata": {},
   "outputs": [
    {
     "data": {
      "text/plain": [
       "{0, 5, 9, 11}"
      ]
     },
     "execution_count": 334,
     "metadata": {},
     "output_type": "execute_result"
    }
   ],
   "source": [
    "set(labels_milk)"
   ]
  },
  {
   "cell_type": "code",
   "execution_count": 335,
   "id": "60623794",
   "metadata": {},
   "outputs": [
    {
     "name": "stdout",
     "output_type": "stream",
     "text": [
      "(0, 1, 2, 3) 1 {0}\n",
      "(0, 1, 2, 4) 1 {0}\n",
      "(0, 1, 2, 5) 2 {0, 5}\n",
      "(0, 1, 2, 6) 1 {0}\n",
      "(0, 1, 2, 7) 1 {0}\n",
      "(0, 1, 2, 8) 1 {0}\n",
      "(0, 1, 2, 9) 2 {0, 9}\n",
      "(0, 1, 2, 10) 1 {0}\n",
      "(0, 1, 2, 11) 2 {0, 11}\n",
      "(0, 1, 3, 4) 1 {0}\n",
      "(0, 1, 3, 5) 2 {0, 5}\n",
      "(0, 1, 3, 6) 1 {0}\n",
      "(0, 1, 3, 7) 1 {0}\n",
      "(0, 1, 3, 8) 1 {0}\n",
      "(0, 1, 3, 9) 2 {0, 9}\n",
      "(0, 1, 3, 10) 1 {0}\n",
      "(0, 1, 3, 11) 2 {0, 11}\n",
      "(0, 1, 4, 5) 2 {0, 5}\n",
      "(0, 1, 4, 6) 1 {0}\n",
      "(0, 1, 4, 7) 1 {0}\n",
      "(0, 1, 4, 8) 1 {0}\n",
      "(0, 1, 4, 9) 2 {0, 9}\n",
      "(0, 1, 4, 10) 1 {0}\n",
      "(0, 1, 4, 11) 2 {0, 11}\n",
      "(0, 1, 5, 6) 2 {0, 5}\n",
      "(0, 1, 5, 7) 2 {0, 5}\n",
      "(0, 1, 5, 8) 2 {0, 5}\n",
      "(0, 1, 5, 9) 3 {0, 9, 5}\n",
      "(0, 1, 5, 10) 2 {0, 5}\n",
      "(0, 1, 5, 11) 3 {0, 11, 5}\n",
      "(0, 1, 6, 7) 1 {0}\n",
      "(0, 1, 6, 8) 1 {0}\n",
      "(0, 1, 6, 9) 2 {0, 9}\n",
      "(0, 1, 6, 10) 1 {0}\n",
      "(0, 1, 6, 11) 2 {0, 11}\n",
      "(0, 1, 7, 8) 1 {0}\n",
      "(0, 1, 7, 9) 2 {0, 9}\n",
      "(0, 1, 7, 10) 1 {0}\n",
      "(0, 1, 7, 11) 2 {0, 11}\n",
      "(0, 1, 8, 9) 2 {0, 9}\n",
      "(0, 1, 8, 10) 1 {0}\n",
      "(0, 1, 8, 11) 2 {0, 11}\n",
      "(0, 1, 9, 10) 2 {0, 9}\n",
      "(0, 1, 9, 11) 3 {0, 9, 11}\n",
      "(0, 1, 10, 11) 2 {0, 11}\n",
      "(0, 2, 3, 4) 1 {0}\n",
      "(0, 2, 3, 5) 2 {0, 5}\n",
      "(0, 2, 3, 6) 1 {0}\n",
      "(0, 2, 3, 7) 1 {0}\n",
      "(0, 2, 3, 8) 1 {0}\n",
      "(0, 2, 3, 9) 2 {0, 9}\n",
      "(0, 2, 3, 10) 1 {0}\n",
      "(0, 2, 3, 11) 2 {0, 11}\n",
      "(0, 2, 4, 5) 2 {0, 5}\n",
      "(0, 2, 4, 6) 1 {0}\n",
      "(0, 2, 4, 7) 1 {0}\n",
      "(0, 2, 4, 8) 1 {0}\n",
      "(0, 2, 4, 9) 2 {0, 9}\n",
      "(0, 2, 4, 10) 1 {0}\n",
      "(0, 2, 4, 11) 2 {0, 11}\n",
      "(0, 2, 5, 6) 2 {0, 5}\n",
      "(0, 2, 5, 7) 2 {0, 5}\n",
      "(0, 2, 5, 8) 2 {0, 5}\n",
      "(0, 2, 5, 9) 3 {0, 9, 5}\n",
      "(0, 2, 5, 10) 2 {0, 5}\n",
      "(0, 2, 5, 11) 3 {0, 11, 5}\n",
      "(0, 2, 6, 7) 1 {0}\n",
      "(0, 2, 6, 8) 1 {0}\n",
      "(0, 2, 6, 9) 2 {0, 9}\n",
      "(0, 2, 6, 10) 1 {0}\n",
      "(0, 2, 6, 11) 2 {0, 11}\n",
      "(0, 2, 7, 8) 1 {0}\n",
      "(0, 2, 7, 9) 2 {0, 9}\n",
      "(0, 2, 7, 10) 1 {0}\n",
      "(0, 2, 7, 11) 2 {0, 11}\n",
      "(0, 2, 8, 9) 2 {0, 9}\n",
      "(0, 2, 8, 10) 1 {0}\n",
      "(0, 2, 8, 11) 2 {0, 11}\n",
      "(0, 2, 9, 10) 2 {0, 9}\n",
      "(0, 2, 9, 11) 3 {0, 9, 11}\n",
      "(0, 2, 10, 11) 2 {0, 11}\n",
      "(0, 3, 4, 5) 2 {0, 5}\n",
      "(0, 3, 4, 6) 1 {0}\n",
      "(0, 3, 4, 7) 1 {0}\n",
      "(0, 3, 4, 8) 1 {0}\n",
      "(0, 3, 4, 9) 2 {0, 9}\n",
      "(0, 3, 4, 10) 1 {0}\n",
      "(0, 3, 4, 11) 2 {0, 11}\n",
      "(0, 3, 5, 6) 2 {0, 5}\n",
      "(0, 3, 5, 7) 2 {0, 5}\n",
      "(0, 3, 5, 8) 2 {0, 5}\n",
      "(0, 3, 5, 9) 3 {0, 9, 5}\n",
      "(0, 3, 5, 10) 2 {0, 5}\n",
      "(0, 3, 5, 11) 3 {0, 11, 5}\n",
      "(0, 3, 6, 7) 1 {0}\n",
      "(0, 3, 6, 8) 1 {0}\n",
      "(0, 3, 6, 9) 2 {0, 9}\n",
      "(0, 3, 6, 10) 1 {0}\n",
      "(0, 3, 6, 11) 2 {0, 11}\n",
      "(0, 3, 7, 8) 1 {0}\n",
      "(0, 3, 7, 9) 2 {0, 9}\n",
      "(0, 3, 7, 10) 1 {0}\n",
      "(0, 3, 7, 11) 2 {0, 11}\n",
      "(0, 3, 8, 9) 2 {0, 9}\n",
      "(0, 3, 8, 10) 1 {0}\n",
      "(0, 3, 8, 11) 2 {0, 11}\n",
      "(0, 3, 9, 10) 2 {0, 9}\n",
      "(0, 3, 9, 11) 3 {0, 9, 11}\n",
      "(0, 3, 10, 11) 2 {0, 11}\n",
      "(0, 4, 5, 6) 2 {0, 5}\n",
      "(0, 4, 5, 7) 2 {0, 5}\n",
      "(0, 4, 5, 8) 2 {0, 5}\n",
      "(0, 4, 5, 9) 3 {0, 9, 5}\n",
      "(0, 4, 5, 10) 2 {0, 5}\n",
      "(0, 4, 5, 11) 3 {0, 11, 5}\n",
      "(0, 4, 6, 7) 1 {0}\n",
      "(0, 4, 6, 8) 1 {0}\n",
      "(0, 4, 6, 9) 2 {0, 9}\n",
      "(0, 4, 6, 10) 1 {0}\n",
      "(0, 4, 6, 11) 2 {0, 11}\n",
      "(0, 4, 7, 8) 1 {0}\n",
      "(0, 4, 7, 9) 2 {0, 9}\n",
      "(0, 4, 7, 10) 1 {0}\n",
      "(0, 4, 7, 11) 2 {0, 11}\n",
      "(0, 4, 8, 9) 2 {0, 9}\n",
      "(0, 4, 8, 10) 1 {0}\n",
      "(0, 4, 8, 11) 2 {0, 11}\n",
      "(0, 4, 9, 10) 2 {0, 9}\n",
      "(0, 4, 9, 11) 3 {0, 9, 11}\n",
      "(0, 4, 10, 11) 2 {0, 11}\n",
      "(0, 5, 6, 7) 2 {0, 5}\n",
      "(0, 5, 6, 8) 2 {0, 5}\n",
      "(0, 5, 6, 9) 3 {0, 9, 5}\n",
      "(0, 5, 6, 10) 2 {0, 5}\n",
      "(0, 5, 6, 11) 3 {0, 11, 5}\n",
      "(0, 5, 7, 8) 2 {0, 5}\n",
      "(0, 5, 7, 9) 3 {0, 9, 5}\n",
      "(0, 5, 7, 10) 2 {0, 5}\n",
      "(0, 5, 7, 11) 3 {0, 11, 5}\n",
      "(0, 5, 8, 9) 3 {0, 9, 5}\n",
      "(0, 5, 8, 10) 2 {0, 5}\n",
      "(0, 5, 8, 11) 3 {0, 11, 5}\n",
      "(0, 5, 9, 10) 3 {0, 9, 5}\n",
      "(0, 5, 9, 11) 4 {0, 9, 11, 5}\n",
      "(0, 5, 10, 11) 3 {0, 11, 5}\n",
      "(0, 6, 7, 8) 1 {0}\n",
      "(0, 6, 7, 9) 2 {0, 9}\n",
      "(0, 6, 7, 10) 1 {0}\n",
      "(0, 6, 7, 11) 2 {0, 11}\n",
      "(0, 6, 8, 9) 2 {0, 9}\n",
      "(0, 6, 8, 10) 1 {0}\n",
      "(0, 6, 8, 11) 2 {0, 11}\n",
      "(0, 6, 9, 10) 2 {0, 9}\n",
      "(0, 6, 9, 11) 3 {0, 9, 11}\n",
      "(0, 6, 10, 11) 2 {0, 11}\n",
      "(0, 7, 8, 9) 2 {0, 9}\n",
      "(0, 7, 8, 10) 1 {0}\n",
      "(0, 7, 8, 11) 2 {0, 11}\n",
      "(0, 7, 9, 10) 2 {0, 9}\n",
      "(0, 7, 9, 11) 3 {0, 9, 11}\n",
      "(0, 7, 10, 11) 2 {0, 11}\n",
      "(0, 8, 9, 10) 2 {0, 9}\n",
      "(0, 8, 9, 11) 3 {0, 9, 11}\n",
      "(0, 8, 10, 11) 2 {0, 11}\n",
      "(0, 9, 10, 11) 3 {0, 9, 11}\n",
      "(1, 2, 3, 4) 0 set()\n",
      "(1, 2, 3, 5) 1 {5}\n",
      "(1, 2, 3, 6) 0 set()\n",
      "(1, 2, 3, 7) 0 set()\n",
      "(1, 2, 3, 8) 0 set()\n",
      "(1, 2, 3, 9) 1 {9}\n",
      "(1, 2, 3, 10) 0 set()\n",
      "(1, 2, 3, 11) 1 {11}\n",
      "(1, 2, 4, 5) 1 {5}\n",
      "(1, 2, 4, 6) 0 set()\n",
      "(1, 2, 4, 7) 0 set()\n",
      "(1, 2, 4, 8) 0 set()\n",
      "(1, 2, 4, 9) 1 {9}\n",
      "(1, 2, 4, 10) 0 set()\n",
      "(1, 2, 4, 11) 1 {11}\n",
      "(1, 2, 5, 6) 1 {5}\n",
      "(1, 2, 5, 7) 1 {5}\n",
      "(1, 2, 5, 8) 1 {5}\n",
      "(1, 2, 5, 9) 2 {9, 5}\n",
      "(1, 2, 5, 10) 1 {5}\n",
      "(1, 2, 5, 11) 2 {11, 5}\n",
      "(1, 2, 6, 7) 0 set()\n",
      "(1, 2, 6, 8) 0 set()\n",
      "(1, 2, 6, 9) 1 {9}\n",
      "(1, 2, 6, 10) 0 set()\n",
      "(1, 2, 6, 11) 1 {11}\n",
      "(1, 2, 7, 8) 0 set()\n",
      "(1, 2, 7, 9) 1 {9}\n",
      "(1, 2, 7, 10) 0 set()\n",
      "(1, 2, 7, 11) 1 {11}\n",
      "(1, 2, 8, 9) 1 {9}\n",
      "(1, 2, 8, 10) 0 set()\n",
      "(1, 2, 8, 11) 1 {11}\n",
      "(1, 2, 9, 10) 1 {9}\n",
      "(1, 2, 9, 11) 2 {9, 11}\n",
      "(1, 2, 10, 11) 1 {11}\n",
      "(1, 3, 4, 5) 1 {5}\n",
      "(1, 3, 4, 6) 0 set()\n",
      "(1, 3, 4, 7) 0 set()\n",
      "(1, 3, 4, 8) 0 set()\n",
      "(1, 3, 4, 9) 1 {9}\n",
      "(1, 3, 4, 10) 0 set()\n",
      "(1, 3, 4, 11) 1 {11}\n",
      "(1, 3, 5, 6) 1 {5}\n",
      "(1, 3, 5, 7) 1 {5}\n",
      "(1, 3, 5, 8) 1 {5}\n",
      "(1, 3, 5, 9) 2 {9, 5}\n",
      "(1, 3, 5, 10) 1 {5}\n",
      "(1, 3, 5, 11) 2 {11, 5}\n",
      "(1, 3, 6, 7) 0 set()\n",
      "(1, 3, 6, 8) 0 set()\n",
      "(1, 3, 6, 9) 1 {9}\n",
      "(1, 3, 6, 10) 0 set()\n",
      "(1, 3, 6, 11) 1 {11}\n",
      "(1, 3, 7, 8) 0 set()\n",
      "(1, 3, 7, 9) 1 {9}\n",
      "(1, 3, 7, 10) 0 set()\n",
      "(1, 3, 7, 11) 1 {11}\n",
      "(1, 3, 8, 9) 1 {9}\n",
      "(1, 3, 8, 10) 0 set()\n",
      "(1, 3, 8, 11) 1 {11}\n",
      "(1, 3, 9, 10) 1 {9}\n",
      "(1, 3, 9, 11) 2 {9, 11}\n",
      "(1, 3, 10, 11) 1 {11}\n",
      "(1, 4, 5, 6) 1 {5}\n",
      "(1, 4, 5, 7) 1 {5}\n",
      "(1, 4, 5, 8) 1 {5}\n",
      "(1, 4, 5, 9) 2 {9, 5}\n",
      "(1, 4, 5, 10) 1 {5}\n",
      "(1, 4, 5, 11) 2 {11, 5}\n",
      "(1, 4, 6, 7) 0 set()\n",
      "(1, 4, 6, 8) 0 set()\n",
      "(1, 4, 6, 9) 1 {9}\n",
      "(1, 4, 6, 10) 0 set()\n",
      "(1, 4, 6, 11) 1 {11}\n",
      "(1, 4, 7, 8) 0 set()\n",
      "(1, 4, 7, 9) 1 {9}\n",
      "(1, 4, 7, 10) 0 set()\n",
      "(1, 4, 7, 11) 1 {11}\n",
      "(1, 4, 8, 9) 1 {9}\n",
      "(1, 4, 8, 10) 0 set()\n",
      "(1, 4, 8, 11) 1 {11}\n",
      "(1, 4, 9, 10) 1 {9}\n",
      "(1, 4, 9, 11) 2 {9, 11}\n",
      "(1, 4, 10, 11) 1 {11}\n",
      "(1, 5, 6, 7) 1 {5}\n",
      "(1, 5, 6, 8) 1 {5}\n",
      "(1, 5, 6, 9) 2 {9, 5}\n",
      "(1, 5, 6, 10) 1 {5}\n",
      "(1, 5, 6, 11) 2 {11, 5}\n",
      "(1, 5, 7, 8) 1 {5}\n",
      "(1, 5, 7, 9) 2 {9, 5}\n",
      "(1, 5, 7, 10) 1 {5}\n",
      "(1, 5, 7, 11) 2 {11, 5}\n",
      "(1, 5, 8, 9) 2 {9, 5}\n",
      "(1, 5, 8, 10) 1 {5}\n",
      "(1, 5, 8, 11) 2 {11, 5}\n",
      "(1, 5, 9, 10) 2 {9, 5}\n",
      "(1, 5, 9, 11) 3 {9, 11, 5}\n",
      "(1, 5, 10, 11) 2 {11, 5}\n",
      "(1, 6, 7, 8) 0 set()\n",
      "(1, 6, 7, 9) 1 {9}\n",
      "(1, 6, 7, 10) 0 set()\n",
      "(1, 6, 7, 11) 1 {11}\n",
      "(1, 6, 8, 9) 1 {9}\n",
      "(1, 6, 8, 10) 0 set()\n",
      "(1, 6, 8, 11) 1 {11}\n",
      "(1, 6, 9, 10) 1 {9}\n",
      "(1, 6, 9, 11) 2 {9, 11}\n",
      "(1, 6, 10, 11) 1 {11}\n",
      "(1, 7, 8, 9) 1 {9}\n",
      "(1, 7, 8, 10) 0 set()\n",
      "(1, 7, 8, 11) 1 {11}\n",
      "(1, 7, 9, 10) 1 {9}\n",
      "(1, 7, 9, 11) 2 {9, 11}\n",
      "(1, 7, 10, 11) 1 {11}\n",
      "(1, 8, 9, 10) 1 {9}\n",
      "(1, 8, 9, 11) 2 {9, 11}\n",
      "(1, 8, 10, 11) 1 {11}\n",
      "(1, 9, 10, 11) 2 {9, 11}\n",
      "(2, 3, 4, 5) 1 {5}\n",
      "(2, 3, 4, 6) 0 set()\n",
      "(2, 3, 4, 7) 0 set()\n",
      "(2, 3, 4, 8) 0 set()\n",
      "(2, 3, 4, 9) 1 {9}\n",
      "(2, 3, 4, 10) 0 set()\n",
      "(2, 3, 4, 11) 1 {11}\n",
      "(2, 3, 5, 6) 1 {5}\n",
      "(2, 3, 5, 7) 1 {5}\n",
      "(2, 3, 5, 8) 1 {5}\n",
      "(2, 3, 5, 9) 2 {9, 5}\n",
      "(2, 3, 5, 10) 1 {5}\n",
      "(2, 3, 5, 11) 2 {11, 5}\n",
      "(2, 3, 6, 7) 0 set()\n",
      "(2, 3, 6, 8) 0 set()\n",
      "(2, 3, 6, 9) 1 {9}\n",
      "(2, 3, 6, 10) 0 set()\n",
      "(2, 3, 6, 11) 1 {11}\n",
      "(2, 3, 7, 8) 0 set()\n",
      "(2, 3, 7, 9) 1 {9}\n",
      "(2, 3, 7, 10) 0 set()\n",
      "(2, 3, 7, 11) 1 {11}\n",
      "(2, 3, 8, 9) 1 {9}\n",
      "(2, 3, 8, 10) 0 set()\n",
      "(2, 3, 8, 11) 1 {11}\n",
      "(2, 3, 9, 10) 1 {9}\n",
      "(2, 3, 9, 11) 2 {9, 11}\n",
      "(2, 3, 10, 11) 1 {11}\n",
      "(2, 4, 5, 6) 1 {5}\n",
      "(2, 4, 5, 7) 1 {5}\n",
      "(2, 4, 5, 8) 1 {5}\n",
      "(2, 4, 5, 9) 2 {9, 5}\n",
      "(2, 4, 5, 10) 1 {5}\n",
      "(2, 4, 5, 11) 2 {11, 5}\n",
      "(2, 4, 6, 7) 0 set()\n",
      "(2, 4, 6, 8) 0 set()\n",
      "(2, 4, 6, 9) 1 {9}\n",
      "(2, 4, 6, 10) 0 set()\n",
      "(2, 4, 6, 11) 1 {11}\n",
      "(2, 4, 7, 8) 0 set()\n",
      "(2, 4, 7, 9) 1 {9}\n",
      "(2, 4, 7, 10) 0 set()\n",
      "(2, 4, 7, 11) 1 {11}\n",
      "(2, 4, 8, 9) 1 {9}\n",
      "(2, 4, 8, 10) 0 set()\n",
      "(2, 4, 8, 11) 1 {11}\n",
      "(2, 4, 9, 10) 1 {9}\n",
      "(2, 4, 9, 11) 2 {9, 11}\n",
      "(2, 4, 10, 11) 1 {11}\n",
      "(2, 5, 6, 7) 1 {5}\n",
      "(2, 5, 6, 8) 1 {5}\n",
      "(2, 5, 6, 9) 2 {9, 5}\n",
      "(2, 5, 6, 10) 1 {5}\n",
      "(2, 5, 6, 11) 2 {11, 5}\n",
      "(2, 5, 7, 8) 1 {5}\n",
      "(2, 5, 7, 9) 2 {9, 5}\n",
      "(2, 5, 7, 10) 1 {5}\n",
      "(2, 5, 7, 11) 2 {11, 5}\n",
      "(2, 5, 8, 9) 2 {9, 5}\n",
      "(2, 5, 8, 10) 1 {5}\n",
      "(2, 5, 8, 11) 2 {11, 5}\n",
      "(2, 5, 9, 10) 2 {9, 5}\n",
      "(2, 5, 9, 11) 3 {9, 11, 5}\n",
      "(2, 5, 10, 11) 2 {11, 5}\n",
      "(2, 6, 7, 8) 0 set()\n",
      "(2, 6, 7, 9) 1 {9}\n",
      "(2, 6, 7, 10) 0 set()\n",
      "(2, 6, 7, 11) 1 {11}\n",
      "(2, 6, 8, 9) 1 {9}\n",
      "(2, 6, 8, 10) 0 set()\n",
      "(2, 6, 8, 11) 1 {11}\n",
      "(2, 6, 9, 10) 1 {9}\n",
      "(2, 6, 9, 11) 2 {9, 11}\n",
      "(2, 6, 10, 11) 1 {11}\n",
      "(2, 7, 8, 9) 1 {9}\n",
      "(2, 7, 8, 10) 0 set()\n",
      "(2, 7, 8, 11) 1 {11}\n",
      "(2, 7, 9, 10) 1 {9}\n",
      "(2, 7, 9, 11) 2 {9, 11}\n",
      "(2, 7, 10, 11) 1 {11}\n",
      "(2, 8, 9, 10) 1 {9}\n",
      "(2, 8, 9, 11) 2 {9, 11}\n",
      "(2, 8, 10, 11) 1 {11}\n",
      "(2, 9, 10, 11) 2 {9, 11}\n",
      "(3, 4, 5, 6) 1 {5}\n",
      "(3, 4, 5, 7) 1 {5}\n",
      "(3, 4, 5, 8) 1 {5}\n",
      "(3, 4, 5, 9) 2 {9, 5}\n",
      "(3, 4, 5, 10) 1 {5}\n",
      "(3, 4, 5, 11) 2 {11, 5}\n",
      "(3, 4, 6, 7) 0 set()\n",
      "(3, 4, 6, 8) 0 set()\n",
      "(3, 4, 6, 9) 1 {9}\n",
      "(3, 4, 6, 10) 0 set()\n",
      "(3, 4, 6, 11) 1 {11}\n",
      "(3, 4, 7, 8) 0 set()\n",
      "(3, 4, 7, 9) 1 {9}\n",
      "(3, 4, 7, 10) 0 set()\n",
      "(3, 4, 7, 11) 1 {11}\n",
      "(3, 4, 8, 9) 1 {9}\n",
      "(3, 4, 8, 10) 0 set()\n",
      "(3, 4, 8, 11) 1 {11}\n",
      "(3, 4, 9, 10) 1 {9}\n",
      "(3, 4, 9, 11) 2 {9, 11}\n",
      "(3, 4, 10, 11) 1 {11}\n",
      "(3, 5, 6, 7) 1 {5}\n",
      "(3, 5, 6, 8) 1 {5}\n",
      "(3, 5, 6, 9) 2 {9, 5}\n",
      "(3, 5, 6, 10) 1 {5}\n",
      "(3, 5, 6, 11) 2 {11, 5}\n",
      "(3, 5, 7, 8) 1 {5}\n",
      "(3, 5, 7, 9) 2 {9, 5}\n",
      "(3, 5, 7, 10) 1 {5}\n",
      "(3, 5, 7, 11) 2 {11, 5}\n",
      "(3, 5, 8, 9) 2 {9, 5}\n",
      "(3, 5, 8, 10) 1 {5}\n",
      "(3, 5, 8, 11) 2 {11, 5}\n",
      "(3, 5, 9, 10) 2 {9, 5}\n",
      "(3, 5, 9, 11) 3 {9, 11, 5}\n",
      "(3, 5, 10, 11) 2 {11, 5}\n",
      "(3, 6, 7, 8) 0 set()\n",
      "(3, 6, 7, 9) 1 {9}\n",
      "(3, 6, 7, 10) 0 set()\n",
      "(3, 6, 7, 11) 1 {11}\n",
      "(3, 6, 8, 9) 1 {9}\n",
      "(3, 6, 8, 10) 0 set()\n",
      "(3, 6, 8, 11) 1 {11}\n",
      "(3, 6, 9, 10) 1 {9}\n",
      "(3, 6, 9, 11) 2 {9, 11}\n",
      "(3, 6, 10, 11) 1 {11}\n",
      "(3, 7, 8, 9) 1 {9}\n",
      "(3, 7, 8, 10) 0 set()\n",
      "(3, 7, 8, 11) 1 {11}\n",
      "(3, 7, 9, 10) 1 {9}\n",
      "(3, 7, 9, 11) 2 {9, 11}\n",
      "(3, 7, 10, 11) 1 {11}\n",
      "(3, 8, 9, 10) 1 {9}\n",
      "(3, 8, 9, 11) 2 {9, 11}\n",
      "(3, 8, 10, 11) 1 {11}\n",
      "(3, 9, 10, 11) 2 {9, 11}\n",
      "(4, 5, 6, 7) 1 {5}\n",
      "(4, 5, 6, 8) 1 {5}\n",
      "(4, 5, 6, 9) 2 {9, 5}\n",
      "(4, 5, 6, 10) 1 {5}\n",
      "(4, 5, 6, 11) 2 {11, 5}\n",
      "(4, 5, 7, 8) 1 {5}\n",
      "(4, 5, 7, 9) 2 {9, 5}\n",
      "(4, 5, 7, 10) 1 {5}\n",
      "(4, 5, 7, 11) 2 {11, 5}\n",
      "(4, 5, 8, 9) 2 {9, 5}\n",
      "(4, 5, 8, 10) 1 {5}\n",
      "(4, 5, 8, 11) 2 {11, 5}\n",
      "(4, 5, 9, 10) 2 {9, 5}\n",
      "(4, 5, 9, 11) 3 {9, 11, 5}\n",
      "(4, 5, 10, 11) 2 {11, 5}\n",
      "(4, 6, 7, 8) 0 set()\n",
      "(4, 6, 7, 9) 1 {9}\n",
      "(4, 6, 7, 10) 0 set()\n",
      "(4, 6, 7, 11) 1 {11}\n",
      "(4, 6, 8, 9) 1 {9}\n",
      "(4, 6, 8, 10) 0 set()\n",
      "(4, 6, 8, 11) 1 {11}\n",
      "(4, 6, 9, 10) 1 {9}\n",
      "(4, 6, 9, 11) 2 {9, 11}\n",
      "(4, 6, 10, 11) 1 {11}\n",
      "(4, 7, 8, 9) 1 {9}\n",
      "(4, 7, 8, 10) 0 set()\n",
      "(4, 7, 8, 11) 1 {11}\n",
      "(4, 7, 9, 10) 1 {9}\n",
      "(4, 7, 9, 11) 2 {9, 11}\n",
      "(4, 7, 10, 11) 1 {11}\n",
      "(4, 8, 9, 10) 1 {9}\n",
      "(4, 8, 9, 11) 2 {9, 11}\n",
      "(4, 8, 10, 11) 1 {11}\n",
      "(4, 9, 10, 11) 2 {9, 11}\n",
      "(5, 6, 7, 8) 1 {5}\n",
      "(5, 6, 7, 9) 2 {9, 5}\n",
      "(5, 6, 7, 10) 1 {5}\n",
      "(5, 6, 7, 11) 2 {11, 5}\n",
      "(5, 6, 8, 9) 2 {9, 5}\n",
      "(5, 6, 8, 10) 1 {5}\n",
      "(5, 6, 8, 11) 2 {11, 5}\n",
      "(5, 6, 9, 10) 2 {9, 5}\n",
      "(5, 6, 9, 11) 3 {9, 11, 5}\n",
      "(5, 6, 10, 11) 2 {11, 5}\n",
      "(5, 7, 8, 9) 2 {9, 5}\n",
      "(5, 7, 8, 10) 1 {5}\n",
      "(5, 7, 8, 11) 2 {11, 5}\n",
      "(5, 7, 9, 10) 2 {9, 5}\n",
      "(5, 7, 9, 11) 3 {9, 11, 5}\n",
      "(5, 7, 10, 11) 2 {11, 5}\n",
      "(5, 8, 9, 10) 2 {9, 5}\n",
      "(5, 8, 9, 11) 3 {9, 11, 5}\n",
      "(5, 8, 10, 11) 2 {11, 5}\n",
      "(5, 9, 10, 11) 3 {9, 11, 5}\n",
      "(6, 7, 8, 9) 1 {9}\n",
      "(6, 7, 8, 10) 0 set()\n",
      "(6, 7, 8, 11) 1 {11}\n",
      "(6, 7, 9, 10) 1 {9}\n",
      "(6, 7, 9, 11) 2 {9, 11}\n",
      "(6, 7, 10, 11) 1 {11}\n",
      "(6, 8, 9, 10) 1 {9}\n",
      "(6, 8, 9, 11) 2 {9, 11}\n",
      "(6, 8, 10, 11) 1 {11}\n",
      "(6, 9, 10, 11) 2 {9, 11}\n",
      "(7, 8, 9, 10) 1 {9}\n",
      "(7, 8, 9, 11) 2 {9, 11}\n",
      "(7, 8, 10, 11) 1 {11}\n",
      "(7, 9, 10, 11) 2 {9, 11}\n",
      "(8, 9, 10, 11) 2 {9, 11}\n"
     ]
    }
   ],
   "source": [
    "# Calculate the overlap between each element of combs and labels_milk.\n",
    "\n",
    "no_overlaps = []\n",
    "\n",
    "# Loop through the combinations.\n",
    "for comb in combs:\n",
    "  # Turn comb into a set.\n",
    "  s1 = set(comb)\n",
    "  # Turn labels_milk into a set.\n",
    "  s2 = set(labels_milk)\n",
    "  # Figure out where they overlap.\n",
    "  overlap = s1.intersection(s2)\n",
    "  # Show the combination and the overlap.\n",
    "  print(comb, len(overlap), overlap)\n",
    "  # Append overlap to no_overlaps.\n",
    "  no_overlaps.append(len(overlap))"
   ]
  },
  {
   "cell_type": "code",
   "execution_count": 336,
   "id": "ebd67b10",
   "metadata": {},
   "outputs": [
    {
     "name": "stdout",
     "output_type": "stream",
     "text": [
      "[1, 1, 2, 1, 1, 1, 2, 1, 2, 1, 2, 1, 1, 1, 2, 1, 2, 2, 1, 1, 1, 2, 1, 2, 2, 2, 2, 3, 2, 3, 1, 1, 2, 1, 2, 1, 2, 1, 2, 2, 1, 2, 2, 3, 2, 1, 2, 1, 1, 1, 2, 1, 2, 2, 1, 1, 1, 2, 1, 2, 2, 2, 2, 3, 2, 3, 1, 1, 2, 1, 2, 1, 2, 1, 2, 2, 1, 2, 2, 3, 2, 2, 1, 1, 1, 2, 1, 2, 2, 2, 2, 3, 2, 3, 1, 1, 2, 1, 2, 1, 2, 1, 2, 2, 1, 2, 2, 3, 2, 2, 2, 2, 3, 2, 3, 1, 1, 2, 1, 2, 1, 2, 1, 2, 2, 1, 2, 2, 3, 2, 2, 2, 3, 2, 3, 2, 3, 2, 3, 3, 2, 3, 3, 4, 3, 1, 2, 1, 2, 2, 1, 2, 2, 3, 2, 2, 1, 2, 2, 3, 2, 2, 3, 2, 3, 0, 1, 0, 0, 0, 1, 0, 1, 1, 0, 0, 0, 1, 0, 1, 1, 1, 1, 2, 1, 2, 0, 0, 1, 0, 1, 0, 1, 0, 1, 1, 0, 1, 1, 2, 1, 1, 0, 0, 0, 1, 0, 1, 1, 1, 1, 2, 1, 2, 0, 0, 1, 0, 1, 0, 1, 0, 1, 1, 0, 1, 1, 2, 1, 1, 1, 1, 2, 1, 2, 0, 0, 1, 0, 1, 0, 1, 0, 1, 1, 0, 1, 1, 2, 1, 1, 1, 2, 1, 2, 1, 2, 1, 2, 2, 1, 2, 2, 3, 2, 0, 1, 0, 1, 1, 0, 1, 1, 2, 1, 1, 0, 1, 1, 2, 1, 1, 2, 1, 2, 1, 0, 0, 0, 1, 0, 1, 1, 1, 1, 2, 1, 2, 0, 0, 1, 0, 1, 0, 1, 0, 1, 1, 0, 1, 1, 2, 1, 1, 1, 1, 2, 1, 2, 0, 0, 1, 0, 1, 0, 1, 0, 1, 1, 0, 1, 1, 2, 1, 1, 1, 2, 1, 2, 1, 2, 1, 2, 2, 1, 2, 2, 3, 2, 0, 1, 0, 1, 1, 0, 1, 1, 2, 1, 1, 0, 1, 1, 2, 1, 1, 2, 1, 2, 1, 1, 1, 2, 1, 2, 0, 0, 1, 0, 1, 0, 1, 0, 1, 1, 0, 1, 1, 2, 1, 1, 1, 2, 1, 2, 1, 2, 1, 2, 2, 1, 2, 2, 3, 2, 0, 1, 0, 1, 1, 0, 1, 1, 2, 1, 1, 0, 1, 1, 2, 1, 1, 2, 1, 2, 1, 1, 2, 1, 2, 1, 2, 1, 2, 2, 1, 2, 2, 3, 2, 0, 1, 0, 1, 1, 0, 1, 1, 2, 1, 1, 0, 1, 1, 2, 1, 1, 2, 1, 2, 1, 2, 1, 2, 2, 1, 2, 2, 3, 2, 2, 1, 2, 2, 3, 2, 2, 3, 2, 3, 1, 0, 1, 1, 2, 1, 1, 2, 1, 2, 1, 2, 1, 2, 2]\n"
     ]
    }
   ],
   "source": [
    "# Show the overlaps.\n",
    "print(no_overlaps)"
   ]
  },
  {
   "cell_type": "code",
   "execution_count": 337,
   "id": "b219df0f",
   "metadata": {},
   "outputs": [
    {
     "data": {
      "text/plain": [
       "(array([0, 1, 2, 3, 4]), array([ 70, 224, 168,  32,   1], dtype=int64))"
      ]
     },
     "execution_count": 337,
     "metadata": {},
     "output_type": "execute_result"
    }
   ],
   "source": [
    "# Count the number of times each overlap occurs.\n",
    "counts = np.unique(no_overlaps, return_counts=True)\n",
    "\n",
    "# Show.\n",
    "counts"
   ]
  },
  {
   "cell_type": "code",
   "execution_count": 338,
   "id": "5ce06aca",
   "metadata": {},
   "outputs": [
    {
     "data": {
      "image/png": "[encoded data removed]",
      "text/plain": [
       "<Figure size 600x400 with 1 Axes>"
      ]
     },
     "metadata": {},
     "output_type": "display_data"
    }
   ],
   "source": [
    "# Create a figure.\n",
    "fig, ax = plt.subplots(figsize=(6, 4))\n",
    "\n",
    "# Bar chart.\n",
    "ax.bar(counts[0], counts[1]);"
   ]
  },
  {
   "cell_type": "code",
   "execution_count": 339,
   "id": "584e34ef",
   "metadata": {},
   "outputs": [
    {
     "data": {
      "text/plain": [
       "0.00202020202020202"
      ]
     },
     "execution_count": 339,
     "metadata": {},
     "output_type": "execute_result"
    }
   ],
   "source": [
    "# Probability that she randomly selects the four correct cups\n",
    "1/495"
   ]
  },
  {
   "cell_type": "code",
   "execution_count": 340,
   "id": "41c91ac4",
   "metadata": {},
   "outputs": [
    {
     "data": {
      "text/plain": [
       "0.06666666666666667"
      ]
     },
     "execution_count": 340,
     "metadata": {},
     "output_type": "execute_result"
    }
   ],
   "source": [
    "# Probability that she randomly selects at least 3 correct cups\n",
    "(32+1)/495"
   ]
  },
  {
   "cell_type": "markdown",
   "id": "d1d9e8e9",
   "metadata": {},
   "source": [
    "***"
   ]
  },
  {
   "cell_type": "markdown",
   "id": "1e44d13b",
   "metadata": {},
   "source": [
    "## Problem 2: Normal Distribution\n",
    "\n",
    "__Brief__: Generate 100,000 samples of size 10 from the standard normal distribution. For each sample, compute the standard deviation with ddof=1 (sample SD) and with ddof=0 (population SD). Plot histograms of both sets of values on the same axes with transparency. Describe the differences you see. Explain how you expect these differences to change if the sample size is increased."
   ]
  },
  {
   "cell_type": "markdown",
   "id": "4d0915cd",
   "metadata": {},
   "source": [
    "## Problem 3: t-Tests\n",
    "\n",
    "__Brief__: A type II error occurs when a test fails to reject the null hypothesis even though it is false. For each mean difference _d_ = 0, 0.1, 0.2, …, 1.0, repeat the following simulation 1,000 times:\n",
    "\n",
    "1. Draw two samples of size 100, one from the standard normal distribution and one from the normal distribution with mean _d_ and standard deviation 1.\n",
    "2. Run an independent samples t-test on the two samples, rejecting the null hypothesis if the p-value is less than 0.05.\n",
    "3. Record the proportion of times the null hypothesis is not rejected.\n",
    "   \n",
    "Plot this proportion against _d_, and explain how the type II error rate changes as the difference in means increases."
   ]
  },
  {
   "cell_type": "markdown",
   "id": "c42ad8c5",
   "metadata": {},
   "source": [
    "## Problem 4: ANOVA\n",
    "\n",
    "__Brief__: Generate three independent samples, each of size 30, from normal distributions with means 0, 0.5, and 1, each with standard deviation 1.\n",
    "\n",
    "1. Perform a one-way ANOVA to test whether all three means are equal.\n",
    "2. Perform three independent two-sample t-tests: samples 1 vs 2, 1 vs 3, and 2 vs 3.\n",
    "3. Compare the conclusions.\n",
    "   \n",
    "Write a short note on why ANOVA is preferred over running several t-tests."
   ]
  },
  {
   "cell_type": "markdown",
   "id": "63729818",
   "metadata": {},
   "source": [
    "End\n",
    "***"
   ]
  }
 ],
 "metadata": {
  "kernelspec": {
   "display_name": "base",
   "language": "python",
   "name": "python3"
  },
  "language_info": {
   "codemirror_mode": {
    "name": "ipython",
    "version": 3
   },
   "file_extension": ".py",
   "mimetype": "text/x-python",
   "name": "python",
   "nbconvert_exporter": "python",
   "pygments_lexer": "ipython3",
   "version": "3.12.7"
  }
 },
 "nbformat": 4,
 "nbformat_minor": 5
}

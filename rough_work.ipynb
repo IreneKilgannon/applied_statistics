{
 "cells": [
  {
   "cell_type": "code",
   "execution_count": null,
   "id": "9aa300dd",
   "metadata": {},
   "outputs": [],
   "source": [
    "# Mathematical functions from the standard library\n",
    "import math\n",
    "\n",
    "# Permutations and combinations\n",
    "import itertools\n",
    "\n",
    "# Random selections\n",
    "import random\n",
    "\n",
    "# Numerical structures and applications\n",
    "import numpy as np\n",
    "\n",
    "# Plotting\n",
    "import matplotlib.pyplot as plt"
   ]
  },
  {
   "cell_type": "code",
   "execution_count": null,
   "id": "93abfa0e",
   "metadata": {},
   "outputs": [],
   "source": [
    "# Total number of cups of tea.\n",
    "no_cups = 12\n",
    "\n",
    "# Number of cups with milk first.\n",
    "no_cups_milk_first = 4\n",
    "\n",
    "# Number of cups with tea first.\n",
    "no_cups_tea_first = 8"
   ]
  },
  {
   "cell_type": "code",
   "execution_count": null,
   "id": "bdbe978f",
   "metadata": {},
   "outputs": [],
   "source": [
    "# Number of ways of selecting four cups from twelve.\n",
    "ways = math.comb(no_cups, no_cups_milk_first)\n",
    "ways"
   ]
  },
  {
   "cell_type": "code",
   "execution_count": null,
   "id": "721b8443",
   "metadata": {},
   "outputs": [],
   "source": [
    "labels = list(range(no_cups))\n",
    "labels"
   ]
  },
  {
   "cell_type": "code",
   "execution_count": null,
   "id": "c35e096e",
   "metadata": {},
   "outputs": [],
   "source": [
    "combs = list(itertools.combinations(labels, no_cups_milk_first))\n",
    "\n",
    "# Show.\n",
    "#combs"
   ]
  },
  {
   "cell_type": "code",
   "execution_count": null,
   "id": "1d4f097e",
   "metadata": {},
   "outputs": [],
   "source": [
    "len(combs)"
   ]
  },
  {
   "cell_type": "code",
   "execution_count": null,
   "id": "e7eacdfb",
   "metadata": {},
   "outputs": [],
   "source": [
    "# Select four cups at random to put milk in first.\n",
    "# https://docs.python.org/3/library/random.html#random.sample\n",
    "labels_milk = random.sample(labels, 4)\n",
    "\n",
    "# Sort, inplace.\n",
    "labels_milk.sort()\n",
    "\n",
    "# Show.\n",
    "labels_milk"
   ]
  },
  {
   "cell_type": "code",
   "execution_count": null,
   "id": "b885f0ef",
   "metadata": {},
   "outputs": [],
   "source": [
    "set(labels_milk)"
   ]
  },
  {
   "cell_type": "code",
   "execution_count": null,
   "id": "c9da0936",
   "metadata": {},
   "outputs": [],
   "source": [
    "# Calculate the overlap between each element of combs and labels_milk.\n",
    "\n",
    "no_overlaps = []\n",
    "\n",
    "# Loop through the combinations.\n",
    "for comb in combs:\n",
    "  # Turn comb into a set.\n",
    "  s1 = set(comb)\n",
    "  # Turn labels_milk into a set.\n",
    "  s2 = set(labels_milk)\n",
    "  # Figure out where they overlap.\n",
    "  overlap = s1.intersection(s2)\n",
    "  # Show the combination and the overlap.\n",
    "  print(comb, len(overlap), overlap)\n",
    "  # Append overlap to no_overlaps.\n",
    "  no_overlaps.append(len(overlap))"
   ]
  },
  {
   "cell_type": "code",
   "execution_count": null,
   "id": "a5f4c2a7",
   "metadata": {},
   "outputs": [],
   "source": [
    "# Show the overlaps.\n",
    "print(no_overlaps)"
   ]
  },
  {
   "cell_type": "code",
   "execution_count": null,
   "id": "6e6a996c",
   "metadata": {},
   "outputs": [],
   "source": [
    "# Count the number of times each overlap occurs.\n",
    "counts = np.unique(no_overlaps, return_counts=True)\n",
    "\n",
    "# Show.\n",
    "counts"
   ]
  },
  {
   "cell_type": "code",
   "execution_count": null,
   "id": "426776c8",
   "metadata": {},
   "outputs": [],
   "source": [
    "# Create a figure.\n",
    "fig, ax = plt.subplots(figsize=(6, 4))\n",
    "\n",
    "# Bar chart.\n",
    "ax.bar(counts[0], counts[1]);"
   ]
  },
  {
   "cell_type": "code",
   "execution_count": null,
   "id": "6293a01d",
   "metadata": {},
   "outputs": [],
   "source": [
    "# Probability that she randomly selects the four correct cups\n",
    "1/495"
   ]
  },
  {
   "cell_type": "code",
   "execution_count": null,
   "id": "2650da4c",
   "metadata": {},
   "outputs": [],
   "source": [
    "# Probability that she randomly selects at least 3 correct cups\n",
    "(32+1)/495"
   ]
  }
 ],
 "metadata": {
  "language_info": {
   "name": "python"
  }
 },
 "nbformat": 4,
 "nbformat_minor": 5
}
